{
 "cells": [
  {
   "cell_type": "code",
   "execution_count": 52,
   "metadata": {},
   "outputs": [],
   "source": [
    "#Question1_B\n",
    "#import neccesary libraries\n",
    "import numpy as np\n",
    "import matplotlib.pyplot as plt\n",
    "from scipy.stats import multivariate_normal\n",
    "plt.rcParams['figure.figsize'] = [9,9]"
   ]
  },
  {
   "cell_type": "code",
   "execution_count": 53,
   "metadata": {},
   "outputs": [],
   "source": [
    "#number of features for 4-D real values vectors\n",
    "features = 4\n",
    "#number of samples to be generated for the vector\n",
    "samples = 10000"
   ]
  },
  {
   "cell_type": "code",
   "execution_count": 54,
   "metadata": {},
   "outputs": [],
   "source": [
    "#initialize the means for different classes\n",
    "mean = np.zeros((features,features)) #4x4 zero vector\n",
    "mean[:,0] = [-1,-1,-1,-1] #mean vector of class 0\n",
    "mean[:,1] = [ 1, 1, 1, 1] #mean vector of class 1"
   ]
  },
  {
   "cell_type": "code",
   "execution_count": 55,
   "metadata": {},
   "outputs": [],
   "source": [
    "#initialize the covariance matrices\n",
    "cov = np.zeros((features, features,features))\n",
    "cov[:,:,0] = [[2,-0.5,0.3,0],[-0.5,1,-0.5,0],[0.3,-0.5,1,0],[0,0,0,2]] #covariance matrix of class 0\n",
    "cov[:,:,1] = [[1,0.3,-0.2,0],[0.3,2,0.3,0  ],[-0.2,0.3,1,0],[0,0,0,3]] #covariance matrix of class 1\n",
    "\n",
    "#cov[:,:,0] = [[2,0,0,0],[0,1,0,0],[0,0,1,0],[0,0,0,2]] #covariance matrix of class 0\n",
    "#cov[:,:,1] = [[1,0,0,0],[0,2,0,0],[0,0,1,0],[0,0,0,3]] #covariance matrix of class 1"
   ]
  },
  {
   "cell_type": "code",
   "execution_count": 56,
   "metadata": {},
   "outputs": [],
   "source": [
    "#initialize priors of class 0 and class 1 respectively\n",
    "prior = [0.7, 0.3]"
   ]
  },
  {
   "cell_type": "code",
   "execution_count": 57,
   "metadata": {},
   "outputs": [],
   "source": [
    "#generate 10,000 samples of 4D data\n",
    "label = np.zeros((2, samples)) #4x10000 zero matrix for label values\n",
    "label[0,:] = (np.random.uniform(0,1,samples) >= prior[0]).astype(int) #draws 10,000 samples from a uniform distribution with low of 0 and high of 1 and compares if true/false >= prior of class 0\n",
    "X = np.zeros((features,samples)) #4x10000 zero matrix for X values\n",
    "for index in range(samples): #compare index number in sample number\n",
    "    if(label[0,index] == 0): #if the the class prior is not higher than prior 0\n",
    "        X[:,index] = np.random.multivariate_normal(mean[:,0],cov[:,:,0],1) #assign random number from normal distrubution of class 0 mean and cov\n",
    "    else:\n",
    "        X[:,index] = np.random.multivariate_normal(mean[:,1],cov[:,:,1],1) #assign random number from normal distrubution of class 1 mean and cov  "
   ]
  },
  {
   "cell_type": "code",
   "execution_count": 58,
   "metadata": {},
   "outputs": [],
   "source": [
    "#initialize class matrix\n",
    "class0_count = float(list(label[0,:]).count(0)) #number of samples for class 0\n",
    "class1_count = float(list(label[0,:]).count(1)) #number of samples for class 1\n",
    "fpr = [] #false positive rate array\n",
    "tpr = [] #true positive rate array\n",
    "minPerror = [] #false positive rate array\n",
    "gamma_list = []"
   ]
  },
  {
   "cell_type": "code",
   "execution_count": 59,
   "metadata": {},
   "outputs": [],
   "source": [
    "#create list of threshold values for plotting ROC curve\n",
    "q = list(sorted(X[0,:])) #sorted values from X random variable matrix\n",
    "gamma_list = [] #gamma array\n",
    "for i in range(0,9999): #i for the index of the 10000 samples\n",
    "    gamma_list.append((q[i] + q[i+1])/2.0) #midpoints of sorted X as threshold values and add to the gamma list\n",
    "gamma_list = [gamma_list[i] for i in range(0,len(gamma_list)) if gamma_list[i]>=0] #ensure all positive values"
   ]
  },
  {
   "cell_type": "code",
   "execution_count": 60,
   "metadata": {},
   "outputs": [],
   "source": [
    "#calculate disciminant score\n",
    "#.T access the attribute to T of the object transpose\n",
    "logValpdf0 = np.log(multivariate_normal.pdf(X.T,mean=mean[:,0], cov=np.identity(4))) #takes the log\n",
    "logValpdf1 = np.log(multivariate_normal.pdf(X.T,mean=mean[:,1], cov=np.identity(4)))\n",
    "discriminant_score = logValpdf1 - logValpdf0 #discriminant score"
   ]
  },
  {
   "cell_type": "code",
   "execution_count": 61,
   "metadata": {},
   "outputs": [],
   "source": [
    "#calculate probability of minimum error for all values in gamma_list\n",
    "for gamma in gamma_list:\n",
    "    label[1,:] = (discriminant_score >= np.log(gamma)).astype(int) #compare the discriminant score with the threshold gamma\n",
    "    x00 = [i for i in range(label.shape[1]) if (label[1,i] == 0 and label[0,i] == 0)] #true negative\n",
    "    x01 = [i for i in range(label.shape[1]) if (label[1,i] == 0 and label[0,i] == 1)] #false negative\n",
    "    x10 = [i for i in range(label.shape[1]) if (label[1,i] == 1 and label[0,i] == 0)] #false positive/false alarm\n",
    "    x11 = [i for i in range(label.shape[1]) if (label[1,i] == 1 and label[0,i] == 1)] #true positive/correct detection\n",
    "    fpr.append(len(x10)/class0_count) #divide false positives by the number of class 0 --> probability of false positives/false alarm\n",
    "    tpr.append(len(x11)/class1_count) #divide true positives by the number of class 0 --> probability of true positives/correct detection\n",
    "    minPerror.append(1-((len(x00)+len(x11))/10000.0)) #probability that it is not a a false positive or true positive"
   ]
  },
  {
   "cell_type": "code",
   "execution_count": 62,
   "metadata": {},
   "outputs": [
    {
     "data": {
      "image/png": "[encoded data removed]",
      "text/plain": [
       "<Figure size 648x648 with 1 Axes>"
      ]
     },
     "metadata": {
      "needs_background": "light"
     },
     "output_type": "display_data"
    }
   ],
   "source": [
    "#plot ROC curve with minimum error point\n",
    "plt.plot(fpr,tpr,color ='red')\n",
    "plt.xlabel('FDR')\n",
    "plt.ylabel('TPR')\n",
    "plt.title('ROC Curve')\n",
    "plt.plot(fpr[np.argmin(minPerror)],tpr[np.argmin(minPerror)],'*',color='black')\n",
    "plt.title('ROC Curve')\n",
    "plt.annotate(s='Min_P(e) = ' +str(round(minPerror[np.argmin(minPerror)],3)) + '\\n'\n",
    "            +'TPR = '+ str(round(tpr[np.argmin(minPerror)],2)) +'\\n'\n",
    "            +'FPR = '+ str(round(fpr[np.argmin(minPerror)],2)) +'\\n'\n",
    "            +'Gamma = '+ str(round(gamma_list[np.argmin(minPerror)],2)),xy\n",
    "            =(fpr[np.argmin(minPerror)],tpr[np.argmin(minPerror)]),\n",
    "            xytext = (fpr[np.argmin(minPerror)]+.25,tpr[np.argmin(minPerror)]),\n",
    "            arrowprops=dict(facecolor='black', width = 0.01, headwidth =5, shrink=0))\n",
    "plt.show()"
   ]
  },
  {
   "cell_type": "code",
   "execution_count": null,
   "metadata": {},
   "outputs": [],
   "source": []
  },
  {
   "cell_type": "code",
   "execution_count": null,
   "metadata": {},
   "outputs": [],
   "source": []
  }
 ],
 "metadata": {
  "kernelspec": {
   "display_name": "Python 3",
   "language": "python",
   "name": "python3"
  },
  "language_info": {
   "codemirror_mode": {
    "name": "ipython",
    "version": 3
   },
   "file_extension": ".py",
   "mimetype": "text/x-python",
   "name": "python",
   "nbconvert_exporter": "python",
   "pygments_lexer": "ipython3",
   "version": "3.7.4"
  }
 },
 "nbformat": 4,
 "nbformat_minor": 4
}
