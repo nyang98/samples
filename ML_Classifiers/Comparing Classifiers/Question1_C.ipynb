{
 "cells": [
  {
   "cell_type": "code",
   "execution_count": 31,
   "metadata": {},
   "outputs": [],
   "source": [
    "#import neccesary libraries\n",
    "import numpy as np\n",
    "import matplotlib.pyplot as plt\n",
    "from scipy.stats import multivariate_normal\n",
    "plt.rcParams['figure.figsize'] = [9,9]"
   ]
  },
  {
   "cell_type": "code",
   "execution_count": 32,
   "metadata": {},
   "outputs": [],
   "source": [
    "#number of features for 4-D real values vectors\n",
    "features = 4\n",
    "#number of samples to be generated for the vector\n",
    "samples = 10000"
   ]
  },
  {
   "cell_type": "code",
   "execution_count": 33,
   "metadata": {},
   "outputs": [],
   "source": [
    "#initialize the means for different classes\n",
    "mean = np.zeros((features,features)) #4x4 zero vector\n",
    "mean[:,0] = [-1,-1,-1,-1] #mean vector of class 0\n",
    "mean[:,1] = [ 1, 1, 1, 1] #mean vector of class 1"
   ]
  },
  {
   "cell_type": "code",
   "execution_count": 34,
   "metadata": {},
   "outputs": [],
   "source": [
    "#initialize the covariance matrices\n",
    "cov = np.zeros((features, features,features))\n",
    "cov[:,:,0] = [[2,-0.5,0.3,0],[-0.5,1,-0.5,0],[0.3,-0.5,1,0],[0,0,0,2]] #covariance matrix of class 0\n",
    "cov[:,:,1] = [[1,0.3,-0.2,0],[0.3,2,0.3,0  ],[-0.2,0.3,1,0],[0,0,0,3]] #covariance matrix of class 0"
   ]
  },
  {
   "cell_type": "code",
   "execution_count": 35,
   "metadata": {},
   "outputs": [],
   "source": [
    "#initialize priors of class 0 and class 1 respectively\n",
    "prior = [0.7, 0.3]"
   ]
  },
  {
   "cell_type": "code",
   "execution_count": 36,
   "metadata": {},
   "outputs": [],
   "source": [
    "#generate 10,000 samples of 4D data\n",
    "label = np.zeros((2, samples)) #2x10000 zero matrix for label values\n",
    "label[0,:] = (np.random.uniform(0,1,samples) >= prior[0]).astype(int) #draws 10,000 samples from a uniform distribution with low of 0 and high of 1 and compares if true/false >= prior of class 0\n",
    "X = np.zeros((features,samples)) #4x10000 zero matrix for X values\n",
    "for index in range(samples): #compare index number in sample number\n",
    "    if(label[0,index] == 0): #if the the class prior is not higher than prior 0\n",
    "        X[:,index] = np.random.multivariate_normal(mean[:,0],cov[:,:,0],1) #assign random number from normal distrubution of class 0 mean and cov\n",
    "    else:\n",
    "        X[:,index] = np.random.multivariate_normal(mean[:,1],cov[:,:,1],1) #assign random number from normal distrubution of class 1 mean and cov  "
   ]
  },
  {
   "cell_type": "code",
   "execution_count": 37,
   "metadata": {},
   "outputs": [],
   "source": [
    "#calculate the Sb matrix\n",
    "Sb = np.dot((mean[:,0] - mean[:,1]), (mean[:,0] - mean[:,1]).T)\n",
    "\n",
    "#calculate the Sw matrix\n",
    "Sw = (cov[:,:,0] + cov[:,:,1])"
   ]
  },
  {
   "cell_type": "code",
   "execution_count": 39,
   "metadata": {},
   "outputs": [],
   "source": [
    "# Calculation of W_lda\n",
    "#returns in a: the eigenvalues and b:normalized unit length eigenvectors\n",
    "eig_vals, eig_vecs = np.linalg.eig(np.dot(np.linalg.inv(Sw),Sb))\n",
    "idx = eig_vals.argsort()[::-1]\n",
    "eig_vals = eig_vals[idx]\n",
    "eig_vecs = eig_vecs[:, idx]\n",
    "w = eig_vecs[:,:1] \n",
    "\n",
    "#a,b =np.linalg.eig(np.dot(np.linalg.inv(Sw),Sb))\n",
    "#np.dot(np.linalg.inv(Sw),Sb)\n",
    "#w = np.array(b[np.argmax(a)])"
   ]
  },
  {
   "cell_type": "code",
   "execution_count": 41,
   "metadata": {},
   "outputs": [],
   "source": [
    "x0 = [i for i in range(label.shape[1]) if (label[0,i] == 0)] #assign to class 0\n",
    "x1 = [i for i in range(label.shape[1]) if (label[0,i] == 1 )] #assign to class 1"
   ]
  },
  {
   "cell_type": "code",
   "execution_count": 52,
   "metadata": {},
   "outputs": [],
   "source": [
    "# Calculation of Projection vector\n",
    "y0 = np.zeros((1,len(x0))) #2x number of class 0\n",
    "y1 = np.zeros((1,len(x1))) #2x number of class 1\n",
    "y0[0,:] = np.dot(w.T, X[:,x0]) \n",
    "y1[0,:] = np.dot(w.T, X[:,x1])\n",
    "y = np.sort(np.hstack((y0[0],y1[0])))"
   ]
  },
  {
   "cell_type": "code",
   "execution_count": 43,
   "metadata": {},
   "outputs": [],
   "source": [
    "# Calculate Threshold values\n",
    "threshold = []\n",
    "for i in range(len(y)-1):\n",
    "    threshold.append((y[i] + y[i+1])/2.0)"
   ]
  },
  {
   "cell_type": "code",
   "execution_count": 28,
   "metadata": {},
   "outputs": [],
   "source": [
    "# Calculate decisions for varying thresholds\n",
    "fpr = []\n",
    "tpr = []\n",
    "minPerror = []\n",
    "for t in threshold:\n",
    "    x00 = list((y0[0,:] >= t).astype(int)).count(0)\n",
    "    x01 = list((y1[0,:] >= t).astype(int)).count(0)\n",
    "    x10 = list((y0[0,:] >= t).astype(int)).count(1)\n",
    "    x11 = list((y1[0,:] >= t).astype(int)).count(1)\n",
    "    fpr.append(float(x10)/y0.shape[1])\n",
    "    tpr.append(float(x11)/y1.shape[1])\n",
    "    minPerror.append(1 - ((x00)+(x11))/10000.0)"
   ]
  },
  {
   "cell_type": "code",
   "execution_count": 13,
   "metadata": {},
   "outputs": [
    {
     "data": {
      "image/png": "[encoded data removed]",
      "text/plain": [
       "<Figure size 432x288 with 1 Axes>"
      ]
     },
     "metadata": {
      "needs_background": "light"
     },
     "output_type": "display_data"
    }
   ],
   "source": [
    "# Plot the Projection vector\n",
    "plt.scatter(y0[0,:],np.zeros((y0.shape[1])))\n",
    "plt.scatter(y1[0,:],np.zeros((y1.shape[1])))\n",
    "plt.legend(['Class 0','Class 1'])\n",
    "plt.title('Fisher LDA Projection')\n",
    "plt.show()"
   ]
  },
  {
   "cell_type": "code",
   "execution_count": 44,
   "metadata": {},
   "outputs": [
    {
     "data": {
      "image/png": "[encoded data removed]",
      "text/plain": [
       "<Figure size 648x648 with 1 Axes>"
      ]
     },
     "metadata": {
      "needs_background": "light"
     },
     "output_type": "display_data"
    }
   ],
   "source": [
    "# Plot the ROC curve\n",
    "plt.plot(fpr,tpr,color = 'red' )\n",
    "plt.xlabel('FPR')\n",
    "plt.ylabel('TPR')\n",
    "plt.plot(fpr[np.argmin(minPerror)],tpr[np.argmin(minPerror)],'*',color = 'black')\n",
    "plt.title(\"ROC curve\")\n",
    "plt.annotate(s='Min_P(e) = ' + str(round(minPerror[np.argmin(minPerror)],3)) + '\\n'\n",
    "+'TPR = '+ str(round(tpr[np.argmin(minPerror)],2)) + '\\n'\n",
    "+'FPR = '+ str(round(fpr[np.argmin(minPerror)],2)) + '\\n'\n",
    "+'Threshold = '+ str(round(threshold[np.argmin(minPerror)],2)),\n",
    "xy=(fpr[np.argmin(minPerror)],tpr[np.argmin(minPerror)]),\n",
    "xytext=(fpr[np.argmin(minPerror)]+0.3,tpr[np.argmin(minPerror)]),\n",
    "arrowprops=dict(facecolor='black', width = 0.01,headwidth = 5,shrink=0))\n",
    "plt.show()"
   ]
  },
  {
   "cell_type": "code",
   "execution_count": null,
   "metadata": {},
   "outputs": [],
   "source": [
    "\n"
   ]
  }
 ],
 "metadata": {
  "kernelspec": {
   "display_name": "Python 3",
   "language": "python",
   "name": "python3"
  },
  "language_info": {
   "codemirror_mode": {
    "name": "ipython",
    "version": 3
   },
   "file_extension": ".py",
   "mimetype": "text/x-python",
   "name": "python",
   "nbconvert_exporter": "python",
   "pygments_lexer": "ipython3",
   "version": "3.7.4"
  }
 },
 "nbformat": 4,
 "nbformat_minor": 4
}
