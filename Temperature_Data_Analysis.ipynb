{
  "nbformat": 4,
  "nbformat_minor": 0,
  "metadata": {
    "colab": {
      "name": "Temperature Data Analysis",
      "provenance": [],
      "include_colab_link": true
    },
    "kernelspec": {
      "name": "python3",
      "display_name": "Python 3"
    }
  },
  "cells": [
    {
      "cell_type": "markdown",
      "metadata": {
        "id": "view-in-github",
        "colab_type": "text"
      },
      "source": [
        "<a href=\"https://colab.research.google.com/github/nyang98/samples/blob/master/Temperature_Data_Analysis.ipynb\" target=\"_parent\"><img src=\"https://colab.research.google.com/assets/colab-badge.svg\" alt=\"Open In Colab\"/></a>"
      ]
    },
    {
      "cell_type": "code",
      "metadata": {
        "id": "W9kwtP-9Zvif",
        "colab_type": "code",
        "colab": {}
      },
      "source": [
        "import pandas as pd"
      ],
      "execution_count": 27,
      "outputs": []
    },
    {
      "cell_type": "code",
      "metadata": {
        "id": "ebh2sZaoz12M",
        "colab_type": "code",
        "colab": {}
      },
      "source": [
        "import math"
      ],
      "execution_count": 28,
      "outputs": []
    },
    {
      "cell_type": "code",
      "metadata": {
        "id": "DXoJpHNJShCg",
        "colab_type": "code",
        "colab": {}
      },
      "source": [
        "from google.colab import files"
      ],
      "execution_count": 29,
      "outputs": []
    },
    {
      "cell_type": "code",
      "metadata": {
        "id": "hmTMtPd6SjS7",
        "colab_type": "code",
        "colab": {
          "resources": {
            "http://localhost:8080/nbextensions/google.colab/files.js": {
              "data": "Ly8gQ29weXJpZ2h0IDIwMTcgR29vZ2xlIExMQwovLwovLyBMaWNlbnNlZCB1bmRlciB0aGUgQXBhY2hlIExpY2Vuc2UsIFZlcnNpb24gMi4wICh0aGUgIkxpY2Vuc2UiKTsKLy8geW91IG1heSBub3QgdXNlIHRoaXMgZmlsZSBleGNlcHQgaW4gY29tcGxpYW5jZSB3aXRoIHRoZSBMaWNlbnNlLgovLyBZb3UgbWF5IG9idGFpbiBhIGNvcHkgb2YgdGhlIExpY2Vuc2UgYXQKLy8KLy8gICAgICBodHRwOi8vd3d3LmFwYWNoZS5vcmcvbGljZW5zZXMvTElDRU5TRS0yLjAKLy8KLy8gVW5sZXNzIHJlcXVpcmVkIGJ5IGFwcGxpY2FibGUgbGF3IG9yIGFncmVlZCB0byBpbiB3cml0aW5nLCBzb2Z0d2FyZQovLyBkaXN0cmlidXRlZCB1bmRlciB0aGUgTGljZW5zZSBpcyBkaXN0cmlidXRlZCBvbiBhbiAiQVMgSVMiIEJBU0lTLAovLyBXSVRIT1VUIFdBUlJBTlRJRVMgT1IgQ09ORElUSU9OUyBPRiBBTlkgS0lORCwgZWl0aGVyIGV4cHJlc3Mgb3IgaW1wbGllZC4KLy8gU2VlIHRoZSBMaWNlbnNlIGZvciB0aGUgc3BlY2lmaWMgbGFuZ3VhZ2UgZ292ZXJuaW5nIHBlcm1pc3Npb25zIGFuZAovLyBsaW1pdGF0aW9ucyB1bmRlciB0aGUgTGljZW5zZS4KCi8qKgogKiBAZmlsZW92ZXJ2aWV3IEhlbHBlcnMgZm9yIGdvb2dsZS5jb2xhYiBQeXRob24gbW9kdWxlLgogKi8KKGZ1bmN0aW9uKHNjb3BlKSB7CmZ1bmN0aW9uIHNwYW4odGV4dCwgc3R5bGVBdHRyaWJ1dGVzID0ge30pIHsKICBjb25zdCBlbGVtZW50ID0gZG9jdW1lbnQuY3JlYXRlRWxlbWVudCgnc3BhbicpOwogIGVsZW1lbnQudGV4dENvbnRlbnQgPSB0ZXh0OwogIGZvciAoY29uc3Qga2V5IG9mIE9iamVjdC5rZXlzKHN0eWxlQXR0cmlidXRlcykpIHsKICAgIGVsZW1lbnQuc3R5bGVba2V5XSA9IHN0eWxlQXR0cmlidXRlc1trZXldOwogIH0KICByZXR1cm4gZWxlbWVudDsKfQoKLy8gTWF4IG51bWJlciBvZiBieXRlcyB3aGljaCB3aWxsIGJlIHVwbG9hZGVkIGF0IGEgdGltZS4KY29uc3QgTUFYX1BBWUxPQURfU0laRSA9IDEwMCAqIDEwMjQ7CgpmdW5jdGlvbiBfdXBsb2FkRmlsZXMoaW5wdXRJZCwgb3V0cHV0SWQpIHsKICBjb25zdCBzdGVwcyA9IHVwbG9hZEZpbGVzU3RlcChpbnB1dElkLCBvdXRwdXRJZCk7CiAgY29uc3Qgb3V0cHV0RWxlbWVudCA9IGRvY3VtZW50LmdldEVsZW1lbnRCeUlkKG91dHB1dElkKTsKICAvLyBDYWNoZSBzdGVwcyBvbiB0aGUgb3V0cHV0RWxlbWVudCB0byBtYWtlIGl0IGF2YWlsYWJsZSBmb3IgdGhlIG5leHQgY2FsbAogIC8vIHRvIHVwbG9hZEZpbGVzQ29udGludWUgZnJvbSBQeXRob24uCiAgb3V0cHV0RWxlbWVudC5zdGVwcyA9IHN0ZXBzOwoKICByZXR1cm4gX3VwbG9hZEZpbGVzQ29udGludWUob3V0cHV0SWQpOwp9CgovLyBUaGlzIGlzIHJvdWdobHkgYW4gYXN5bmMgZ2VuZXJhdG9yIChub3Qgc3VwcG9ydGVkIGluIHRoZSBicm93c2VyIHlldCksCi8vIHdoZXJlIHRoZXJlIGFyZSBtdWx0aXBsZSBhc3luY2hyb25vdXMgc3RlcHMgYW5kIHRoZSBQeXRob24gc2lkZSBpcyBnb2luZwovLyB0byBwb2xsIGZvciBjb21wbGV0aW9uIG9mIGVhY2ggc3RlcC4KLy8gVGhpcyB1c2VzIGEgUHJvbWlzZSB0byBibG9jayB0aGUgcHl0aG9uIHNpZGUgb24gY29tcGxldGlvbiBvZiBlYWNoIHN0ZXAsCi8vIHRoZW4gcGFzc2VzIHRoZSByZXN1bHQgb2YgdGhlIHByZXZpb3VzIHN0ZXAgYXMgdGhlIGlucHV0IHRvIHRoZSBuZXh0IHN0ZXAuCmZ1bmN0aW9uIF91cGxvYWRGaWxlc0NvbnRpbnVlKG91dHB1dElkKSB7CiAgY29uc3Qgb3V0cHV0RWxlbWVudCA9IGRvY3VtZW50LmdldEVsZW1lbnRCeUlkKG91dHB1dElkKTsKICBjb25zdCBzdGVwcyA9IG91dHB1dEVsZW1lbnQuc3RlcHM7CgogIGNvbnN0IG5leHQgPSBzdGVwcy5uZXh0KG91dHB1dEVsZW1lbnQubGFzdFByb21pc2VWYWx1ZSk7CiAgcmV0dXJuIFByb21pc2UucmVzb2x2ZShuZXh0LnZhbHVlLnByb21pc2UpLnRoZW4oKHZhbHVlKSA9PiB7CiAgICAvLyBDYWNoZSB0aGUgbGFzdCBwcm9taXNlIHZhbHVlIHRvIG1ha2UgaXQgYXZhaWxhYmxlIHRvIHRoZSBuZXh0CiAgICAvLyBzdGVwIG9mIHRoZSBnZW5lcmF0b3IuCiAgICBvdXRwdXRFbGVtZW50Lmxhc3RQcm9taXNlVmFsdWUgPSB2YWx1ZTsKICAgIHJldHVybiBuZXh0LnZhbHVlLnJlc3BvbnNlOwogIH0pOwp9CgovKioKICogR2VuZXJhdG9yIGZ1bmN0aW9uIHdoaWNoIGlzIGNhbGxlZCBiZXR3ZWVuIGVhY2ggYXN5bmMgc3RlcCBvZiB0aGUgdXBsb2FkCiAqIHByb2Nlc3MuCiAqIEBwYXJhbSB7c3RyaW5nfSBpbnB1dElkIEVsZW1lbnQgSUQgb2YgdGhlIGlucHV0IGZpbGUgcGlja2VyIGVsZW1lbnQuCiAqIEBwYXJhbSB7c3RyaW5nfSBvdXRwdXRJZCBFbGVtZW50IElEIG9mIHRoZSBvdXRwdXQgZGlzcGxheS4KICogQHJldHVybiB7IUl0ZXJhYmxlPCFPYmplY3Q+fSBJdGVyYWJsZSBvZiBuZXh0IHN0ZXBzLgogKi8KZnVuY3Rpb24qIHVwbG9hZEZpbGVzU3RlcChpbnB1dElkLCBvdXRwdXRJZCkgewogIGNvbnN0IGlucHV0RWxlbWVudCA9IGRvY3VtZW50LmdldEVsZW1lbnRCeUlkKGlucHV0SWQpOwogIGlucHV0RWxlbWVudC5kaXNhYmxlZCA9IGZhbHNlOwoKICBjb25zdCBvdXRwdXRFbGVtZW50ID0gZG9jdW1lbnQuZ2V0RWxlbWVudEJ5SWQob3V0cHV0SWQpOwogIG91dHB1dEVsZW1lbnQuaW5uZXJIVE1MID0gJyc7CgogIGNvbnN0IHBpY2tlZFByb21pc2UgPSBuZXcgUHJvbWlzZSgocmVzb2x2ZSkgPT4gewogICAgaW5wdXRFbGVtZW50LmFkZEV2ZW50TGlzdGVuZXIoJ2NoYW5nZScsIChlKSA9PiB7CiAgICAgIHJlc29sdmUoZS50YXJnZXQuZmlsZXMpOwogICAgfSk7CiAgfSk7CgogIGNvbnN0IGNhbmNlbCA9IGRvY3VtZW50LmNyZWF0ZUVsZW1lbnQoJ2J1dHRvbicpOwogIGlucHV0RWxlbWVudC5wYXJlbnRFbGVtZW50LmFwcGVuZENoaWxkKGNhbmNlbCk7CiAgY2FuY2VsLnRleHRDb250ZW50ID0gJ0NhbmNlbCB1cGxvYWQnOwogIGNvbnN0IGNhbmNlbFByb21pc2UgPSBuZXcgUHJvbWlzZSgocmVzb2x2ZSkgPT4gewogICAgY2FuY2VsLm9uY2xpY2sgPSAoKSA9PiB7CiAgICAgIHJlc29sdmUobnVsbCk7CiAgICB9OwogIH0pOwoKICAvLyBXYWl0IGZvciB0aGUgdXNlciB0byBwaWNrIHRoZSBmaWxlcy4KICBjb25zdCBmaWxlcyA9IHlpZWxkIHsKICAgIHByb21pc2U6IFByb21pc2UucmFjZShbcGlja2VkUHJvbWlzZSwgY2FuY2VsUHJvbWlzZV0pLAogICAgcmVzcG9uc2U6IHsKICAgICAgYWN0aW9uOiAnc3RhcnRpbmcnLAogICAgfQogIH07CgogIGNhbmNlbC5yZW1vdmUoKTsKCiAgLy8gRGlzYWJsZSB0aGUgaW5wdXQgZWxlbWVudCBzaW5jZSBmdXJ0aGVyIHBpY2tzIGFyZSBub3QgYWxsb3dlZC4KICBpbnB1dEVsZW1lbnQuZGlzYWJsZWQgPSB0cnVlOwoKICBpZiAoIWZpbGVzKSB7CiAgICByZXR1cm4gewogICAgICByZXNwb25zZTogewogICAgICAgIGFjdGlvbjogJ2NvbXBsZXRlJywKICAgICAgfQogICAgfTsKICB9CgogIGZvciAoY29uc3QgZmlsZSBvZiBmaWxlcykgewogICAgY29uc3QgbGkgPSBkb2N1bWVudC5jcmVhdGVFbGVtZW50KCdsaScpOwogICAgbGkuYXBwZW5kKHNwYW4oZmlsZS5uYW1lLCB7Zm9udFdlaWdodDogJ2JvbGQnfSkpOwogICAgbGkuYXBwZW5kKHNwYW4oCiAgICAgICAgYCgke2ZpbGUudHlwZSB8fCAnbi9hJ30pIC0gJHtmaWxlLnNpemV9IGJ5dGVzLCBgICsKICAgICAgICBgbGFzdCBtb2RpZmllZDogJHsKICAgICAgICAgICAgZmlsZS5sYXN0TW9kaWZpZWREYXRlID8gZmlsZS5sYXN0TW9kaWZpZWREYXRlLnRvTG9jYWxlRGF0ZVN0cmluZygpIDoKICAgICAgICAgICAgICAgICAgICAgICAgICAgICAgICAgICAgJ24vYSd9IC0gYCkpOwogICAgY29uc3QgcGVyY2VudCA9IHNwYW4oJzAlIGRvbmUnKTsKICAgIGxpLmFwcGVuZENoaWxkKHBlcmNlbnQpOwoKICAgIG91dHB1dEVsZW1lbnQuYXBwZW5kQ2hpbGQobGkpOwoKICAgIGNvbnN0IGZpbGVEYXRhUHJvbWlzZSA9IG5ldyBQcm9taXNlKChyZXNvbHZlKSA9PiB7CiAgICAgIGNvbnN0IHJlYWRlciA9IG5ldyBGaWxlUmVhZGVyKCk7CiAgICAgIHJlYWRlci5vbmxvYWQgPSAoZSkgPT4gewogICAgICAgIHJlc29sdmUoZS50YXJnZXQucmVzdWx0KTsKICAgICAgfTsKICAgICAgcmVhZGVyLnJlYWRBc0FycmF5QnVmZmVyKGZpbGUpOwogICAgfSk7CiAgICAvLyBXYWl0IGZvciB0aGUgZGF0YSB0byBiZSByZWFkeS4KICAgIGxldCBmaWxlRGF0YSA9IHlpZWxkIHsKICAgICAgcHJvbWlzZTogZmlsZURhdGFQcm9taXNlLAogICAgICByZXNwb25zZTogewogICAgICAgIGFjdGlvbjogJ2NvbnRpbnVlJywKICAgICAgfQogICAgfTsKCiAgICAvLyBVc2UgYSBjaHVua2VkIHNlbmRpbmcgdG8gYXZvaWQgbWVzc2FnZSBzaXplIGxpbWl0cy4gU2VlIGIvNjIxMTU2NjAuCiAgICBsZXQgcG9zaXRpb24gPSAwOwogICAgd2hpbGUgKHBvc2l0aW9uIDwgZmlsZURhdGEuYnl0ZUxlbmd0aCkgewogICAgICBjb25zdCBsZW5ndGggPSBNYXRoLm1pbihmaWxlRGF0YS5ieXRlTGVuZ3RoIC0gcG9zaXRpb24sIE1BWF9QQVlMT0FEX1NJWkUpOwogICAgICBjb25zdCBjaHVuayA9IG5ldyBVaW50OEFycmF5KGZpbGVEYXRhLCBwb3NpdGlvbiwgbGVuZ3RoKTsKICAgICAgcG9zaXRpb24gKz0gbGVuZ3RoOwoKICAgICAgY29uc3QgYmFzZTY0ID0gYnRvYShTdHJpbmcuZnJvbUNoYXJDb2RlLmFwcGx5KG51bGwsIGNodW5rKSk7CiAgICAgIHlpZWxkIHsKICAgICAgICByZXNwb25zZTogewogICAgICAgICAgYWN0aW9uOiAnYXBwZW5kJywKICAgICAgICAgIGZpbGU6IGZpbGUubmFtZSwKICAgICAgICAgIGRhdGE6IGJhc2U2NCwKICAgICAgICB9LAogICAgICB9OwogICAgICBwZXJjZW50LnRleHRDb250ZW50ID0KICAgICAgICAgIGAke01hdGgucm91bmQoKHBvc2l0aW9uIC8gZmlsZURhdGEuYnl0ZUxlbmd0aCkgKiAxMDApfSUgZG9uZWA7CiAgICB9CiAgfQoKICAvLyBBbGwgZG9uZS4KICB5aWVsZCB7CiAgICByZXNwb25zZTogewogICAgICBhY3Rpb246ICdjb21wbGV0ZScsCiAgICB9CiAgfTsKfQoKc2NvcGUuZ29vZ2xlID0gc2NvcGUuZ29vZ2xlIHx8IHt9OwpzY29wZS5nb29nbGUuY29sYWIgPSBzY29wZS5nb29nbGUuY29sYWIgfHwge307CnNjb3BlLmdvb2dsZS5jb2xhYi5fZmlsZXMgPSB7CiAgX3VwbG9hZEZpbGVzLAogIF91cGxvYWRGaWxlc0NvbnRpbnVlLAp9Owp9KShzZWxmKTsK",
              "ok": true,
              "headers": [
                [
                  "content-type",
                  "application/javascript"
                ]
              ],
              "status": 200,
              "status_text": ""
            }
          },
          "base_uri": "https://localhost:8080/",
          "height": 72
        },
        "outputId": "5de01f48-5755-46d7-a24b-020721df401f"
      },
      "source": [
        "file= files.upload()"
      ],
      "execution_count": 4,
      "outputs": [
        {
          "output_type": "display_data",
          "data": {
            "text/html": [
              "\n",
              "     <input type=\"file\" id=\"files-2d643d81-4a74-410a-bb7e-d309fc8b9a9e\" name=\"files[]\" multiple disabled\n",
              "        style=\"border:none\" />\n",
              "     <output id=\"result-2d643d81-4a74-410a-bb7e-d309fc8b9a9e\">\n",
              "      Upload widget is only available when the cell has been executed in the\n",
              "      current browser session. Please rerun this cell to enable.\n",
              "      </output>\n",
              "      <script src=\"/nbextensions/google.colab/files.js\"></script> "
            ],
            "text/plain": [
              "<IPython.core.display.HTML object>"
            ]
          },
          "metadata": {
            "tags": []
          }
        },
        {
          "output_type": "stream",
          "text": [
            "Saving temptest4 to temptest4\n"
          ],
          "name": "stdout"
        }
      ]
    },
    {
      "cell_type": "code",
      "metadata": {
        "id": "PjmVKFgdZZqQ",
        "colab_type": "code",
        "colab": {}
      },
      "source": [
        "content = file['temptest4']"
      ],
      "execution_count": 30,
      "outputs": []
    },
    {
      "cell_type": "code",
      "metadata": {
        "id": "efCiVwCOZgTD",
        "colab_type": "code",
        "colab": {}
      },
      "source": [
        "content = content.decode(\"utf-8\")"
      ],
      "execution_count": 31,
      "outputs": []
    },
    {
      "cell_type": "code",
      "metadata": {
        "id": "ohmIYS3RZoiL",
        "colab_type": "code",
        "colab": {}
      },
      "source": [
        "content = content.split('\\n')"
      ],
      "execution_count": 33,
      "outputs": []
    },
    {
      "cell_type": "code",
      "metadata": {
        "id": "i4FK-_mQ4EuU",
        "colab_type": "code",
        "colab": {
          "base_uri": "https://localhost:8080/",
          "height": 1000
        },
        "outputId": "57f206a1-7966-4cc7-e9f2-88c65616f265"
      },
      "source": [
        "content"
      ],
      "execution_count": 34,
      "outputs": [
        {
          "output_type": "execute_result",
          "data": {
            "text/plain": [
              "['=~=~=~=~=~=~=~=~=~=~=~= PuTTY log 2019.12.10 15:47:41 =~=~=~=~=~=~=~=~=~=~=~=\\r',\n",
              " 'Temperature Readings\\r',\n",
              " 'Time (s): 0Temperature (C): 22.75\\r',\n",
              " 'Time (s): 1Temperature (C): 22.75\\r',\n",
              " 'Time (s): 2Temperature (C): 23.00\\r',\n",
              " 'Time (s): 3Temperature (C): 26.25\\r',\n",
              " 'Time (s): 4Temperature (C): 31.00\\r',\n",
              " 'Time (s): 5Temperature (C): 32.25\\r',\n",
              " 'Time (s): 6Temperature (C): 32.50\\r',\n",
              " 'Time (s): 7Temperature (C): 31.75\\r',\n",
              " 'Time (s): 9Temperature (C): 31.00\\r',\n",
              " 'Time (s): 10Temperature (C): 30.50\\r',\n",
              " 'Time (s): 11Temperature (C): 29.50\\r',\n",
              " 'Time (s): 12Temperature (C): 29.00\\r',\n",
              " 'Time (s): 13Temperature (C): 28.25\\r',\n",
              " 'Time (s): 14Temperature (C): 27.75\\r',\n",
              " 'Time (s): 15Temperature (C): 27.25\\r',\n",
              " 'Time (s): 16Temperature (C): 27.50\\r',\n",
              " 'Time (s): 17Temperature (C): 30.25\\r',\n",
              " 'Time (s): 18Temperature (C): 31.00\\r',\n",
              " 'Time (s): 19Temperature (C): 31.25\\r',\n",
              " 'Time (s): 20Temperature (C): 31.50\\r',\n",
              " 'Time (s): 21Temperature (C): 31.75\\r',\n",
              " 'Time (s): 22Temperature (C): 31.75\\r',\n",
              " 'Time (s): 23Temperature (C): 31.00\\r',\n",
              " 'Time (s): 25Temperature (C): 30.50\\r',\n",
              " 'Time (s): 26Temperature (C): 30.00\\r',\n",
              " 'Time (s): 27Temperature (C): 29.50\\r',\n",
              " 'Time (s): 28Temperature (C): 29.25\\r',\n",
              " 'Time (s): 29Temperature (C): 29.00\\r',\n",
              " 'Time (s): 30Temperature (C): 29.00\\r',\n",
              " 'Time (s): 31Temperature (C): 29.00\\r',\n",
              " 'Time (s): 32Temperature (C): 29.00\\r',\n",
              " 'Time (s): 33Temperature (C): 28.25\\r',\n",
              " 'Time (s): 34Temperature (C): 30.75\\r',\n",
              " 'Time (s): 35Temperature (C): 31.75\\r',\n",
              " 'Time (s): 36Temperature (C): 30.75\\r',\n",
              " 'Time (s): 37Temperature (C): 32.00\\r',\n",
              " 'Time (s): 38Temperature (C): 32.25\\r',\n",
              " 'Time (s): 40Temperature (C): 32.50\\r',\n",
              " 'Time (s): 41Temperature (C): 33.00\\r',\n",
              " 'Time (s): 42Temperature (C): 33.00\\r',\n",
              " 'Time (s): 43Temperature (C): 33.25\\r',\n",
              " 'Time (s): 44Temperature (C): 33.25\\r',\n",
              " 'Time (s): 45Temperature (C): 33.00\\r',\n",
              " 'Time (s): 46Temperature (C): 32.75\\r',\n",
              " 'Time (s): 47Temperature (C): 32.50\\r',\n",
              " 'Time (s): 48Temperature (C): 32.25\\r',\n",
              " 'Time (s): 49Temperature (C): 33.00\\r',\n",
              " 'Time (s): 50Temperature (C): 33.25\\r',\n",
              " 'Time (s): 51Temperature (C): 33.25\\r',\n",
              " 'Time (s): 52Temperature (C): 33.00\\r',\n",
              " 'Time (s): 53Temperature (C): 32.50\\r',\n",
              " 'Time (s): 54Temperature (C): 32.25\\r',\n",
              " 'Time (s): 56Temperature (C): 31.75\\r',\n",
              " 'Time (s): 57Temperature (C): 31.50\\r',\n",
              " 'Time (s): 58Temperature (C): 31.25\\r',\n",
              " 'Time (s): 59Temperature (C): 31.00\\r',\n",
              " 'Time (s): 60Temperature (C): 30.50\\r',\n",
              " 'Time (s): 61Temperature (C): 30.50\\r',\n",
              " 'Time (s): 62Temperature (C): 30.50\\r',\n",
              " 'Time (s): 63Temperature (C): 30.00\\r',\n",
              " 'Time (s): 64Temperature (C): 30.25\\r',\n",
              " 'Time (s): 65Temperature (C): 30.00\\r',\n",
              " 'Time (s): 66Temperature (C): 29.75\\r',\n",
              " 'Time (s): 67Temperature (C): 29.50\\r',\n",
              " 'Time (s): 68Temperature (C): 29.25\\r',\n",
              " 'Time (s): 69Temperature (C): 29.25\\r',\n",
              " 'Time (s): 70Temperature (C): 29.00\\r',\n",
              " 'Time (s): 72Temperature (C): 28.50\\r',\n",
              " 'Time (s): 73Temperature (C): 28.50\\r',\n",
              " 'Time (s): 74Temperature (C): 28.25\\r',\n",
              " 'Time (s): 75Temperature (C): 28.25\\r',\n",
              " 'T']"
            ]
          },
          "metadata": {
            "tags": []
          },
          "execution_count": 34
        }
      ]
    },
    {
      "cell_type": "code",
      "metadata": {
        "id": "r5ZcthNxkrI0",
        "colab_type": "code",
        "colab": {}
      },
      "source": [
        "a = 'Time (s): 0Temperature (C): 22.75\\r'"
      ],
      "execution_count": 35,
      "outputs": []
    },
    {
      "cell_type": "code",
      "metadata": {
        "id": "SMh4L_KY1D8R",
        "colab_type": "code",
        "colab": {}
      },
      "source": [
        "trial={}"
      ],
      "execution_count": 36,
      "outputs": []
    },
    {
      "cell_type": "code",
      "metadata": {
        "id": "e5zQBbF11UQa",
        "colab_type": "code",
        "colab": {
          "base_uri": "https://localhost:8080/",
          "height": 35
        },
        "outputId": "cadd1bb5-6b36-43cc-b9af-f7f32f7da939"
      },
      "source": [
        "a.split('Temperature 1 (C): ')[0].split('Time (s): ')[1]"
      ],
      "execution_count": 37,
      "outputs": [
        {
          "output_type": "execute_result",
          "data": {
            "application/vnd.google.colaboratory.intrinsic+json": {
              "type": "string"
            },
            "text/plain": [
              "'0Temperature (C): 22.75\\r'"
            ]
          },
          "metadata": {
            "tags": []
          },
          "execution_count": 37
        }
      ]
    },
    {
      "cell_type": "code",
      "metadata": {
        "id": "_GETXV8l1WTt",
        "colab_type": "code",
        "colab": {}
      },
      "source": [
        "trial['temperature']= a.split('Temperature (C): ')[1].split('\\r')[0]"
      ],
      "execution_count": 38,
      "outputs": []
    },
    {
      "cell_type": "code",
      "metadata": {
        "id": "shbzo6p72BFp",
        "colab_type": "code",
        "colab": {}
      },
      "source": [
        "def row_to_dict(a):\n",
        "  trial={}\n",
        "  trial['time']= float(a.split('Temperature (C): ')[0].split('Time (s): ')[1])\n",
        "  trial['temperature']= float(a.split('Temperature (C): ')[1].split('\\r')[0])\n",
        "  return trial"
      ],
      "execution_count": 39,
      "outputs": []
    },
    {
      "cell_type": "code",
      "metadata": {
        "id": "WFL1dSzE3ykm",
        "colab_type": "code",
        "colab": {}
      },
      "source": [
        "file_list = content[2:-1]"
      ],
      "execution_count": 40,
      "outputs": []
    },
    {
      "cell_type": "code",
      "metadata": {
        "id": "iokBwabQ4fQA",
        "colab_type": "code",
        "colab": {}
      },
      "source": [
        "file_list = [row_to_dict(x) for x in file_list]"
      ],
      "execution_count": 41,
      "outputs": []
    },
    {
      "cell_type": "code",
      "metadata": {
        "id": "y2UDXlxZ4trd",
        "colab_type": "code",
        "colab": {}
      },
      "source": [
        "df = pd.DataFrame(file_list)"
      ],
      "execution_count": null,
      "outputs": []
    },
    {
      "cell_type": "code",
      "metadata": {
        "id": "7Z52MaAo5iV6",
        "colab_type": "code",
        "colab": {
          "base_uri": "https://localhost:8080/",
          "height": 295
        },
        "outputId": "876f375a-9669-4fff-a4a5-dc34d412e71b"
      },
      "source": [
        "df.plot(kind='scatter',x='time',y='temperature',title='Time vs. Temp');"
      ],
      "execution_count": 50,
      "outputs": [
        {
          "output_type": "display_data",
          "data": {
            "image/png": "[encoded data removed]",
            "text/plain": [
              "<Figure size 432x288 with 1 Axes>"
            ]
          },
          "metadata": {
            "tags": [],
            "needs_background": "light"
          }
        }
      ]
    },
    {
      "cell_type": "code",
      "metadata": {
        "id": "DXUEaLjSlKR-",
        "colab_type": "code",
        "colab": {}
      },
      "source": [
        "  first_time = df['time'][0]\n",
        "  max_time = df['time'].max()\n",
        "  first_temp = df['temperature'][0]\n",
        "  max_temp = df['temperature'].max()\n",
        "  time_at_max = df.loc[df['temperature'] == max_temp]\n",
        "  change_in_temp = max_temp - first_temp + float(273)"
      ],
      "execution_count": 44,
      "outputs": []
    },
    {
      "cell_type": "code",
      "metadata": {
        "id": "uxR1qYxEtuNO",
        "colab_type": "code",
        "colab": {}
      },
      "source": [
        "def solar_flux():\n",
        "  window = 0.88\n",
        "  spec_heat = float(0.24)\n",
        "  target_diam = float(input(\"Target Diameter (m)= \"))\n",
        "  target_area = math.pi * pow((target_diam/2),2)\n",
        "\n",
        "  def mult_max_times(x):\n",
        "    if len(time_at_max)>1:\n",
        "     return time_at_max.mean()\n",
        "    else:\n",
        "     return time_at_max\n",
        "\n",
        "  total_energy = spec_heat * mass * change_in_time\n",
        "  power = total_energy/max_time\n",
        "  flux = power/target_area\n",
        "  target_flux = flux/target_abs\n",
        "  print('Solar Flux Incedent on Meter is')\n",
        "  print(str(target_flux) + ' W/m^2')"
      ],
      "execution_count": 19,
      "outputs": []
    },
    {
      "cell_type": "code",
      "metadata": {
        "id": "hPKkmkTbx-4_",
        "colab_type": "code",
        "colab": {}
      },
      "source": [
        "def black_body():\n",
        "  target_diam = float(input(\"Target Diameter (m)= \"))\n",
        "  target_area = math.pi * pow((target_diam/2),2)\n",
        "  e = float(input(\"Emissivity= \"))\n",
        "  boltz = pow(5.67,-8)\n",
        "  change_in_temp = max_temp - first_temp + float(273)\n",
        "  power = target_area * e * boltz * pow(change_in_temp,4)\n",
        "  print('Blackbody Radiation is')\n",
        "  print(str(power) + ' W')\n",
        "\n"
      ],
      "execution_count": 45,
      "outputs": []
    },
    {
      "cell_type": "code",
      "metadata": {
        "id": "XRkhtZhznCYS",
        "colab_type": "code",
        "colab": {}
      },
      "source": [
        "def cond_heat():\n",
        "    target_diam = float(input(\"Target Diameter (m)= \"))\n",
        "    target_area = math.pi * pow((target_diam/2),2)\n",
        "    contact_area = 0.0001\n",
        "    length = float(input(\"Target Length (m)= \"))\n",
        "    density = float(input(\"Density of target (kg/m^3)= \"))\n",
        "    mass = density * math.pi * target_area * 100\n",
        "    spec_heat = float(input(\"Specific Heat of Target (J/gK)= \")) \n",
        "    k = float(input(\"Thermal Conductivity of Target W/mK)= \"))\n",
        "    energy = k * change_in_temp / target_diam * spec_heat\n",
        "\n",
        "    print('Total Conductive Heat is')\n",
        "    print(str(energy) + ' W')\n",
        "  "
      ],
      "execution_count": 46,
      "outputs": []
    },
    {
      "cell_type": "code",
      "metadata": {
        "id": "EKAJOEr2nZiX",
        "colab_type": "code",
        "colab": {
          "base_uri": "https://localhost:8080/",
          "height": 289
        },
        "outputId": "e25b1250-3460-4c3a-de98-b9fbe7037815"
      },
      "source": [
        "print('What would you like to calculate?:\\n')\n",
        "print('Radiative Heat In\\n')\n",
        "print('Radiative Heat Out\\n')\n",
        "print('Conductive Heat\\n')\n",
        "choice = str(input('Enter your choice: '))\n",
        "\n",
        "if (choice == 'Radiative Heat In'):\n",
        "    solar_flux()\n",
        "elif (choice == 'Radiative Heat Out'):\n",
        "    black_body()\n",
        "elif (choice == 'Conductive Heat'):\n",
        "    cond_heat()\n",
        "else:\n",
        "    print('Invalid choice')"
      ],
      "execution_count": 47,
      "outputs": [
        {
          "output_type": "stream",
          "text": [
            "What would you like to calculate?:\n",
            "\n",
            "Radiative Heat In\n",
            "\n",
            "Radiative Heat Out\n",
            "\n",
            "Conductive Heat\n",
            "\n",
            "Enter your choice: Conductive Heat\n",
            "Target Diameter (m)= .3\n",
            "Target Length (m)= .1\n",
            "Density of target (kg/m^3)= .34\n",
            "Specific Heat of Target (J/gK)= 23\n",
            "Thermal Conductivity of Target W/mK)= 32\n",
            "Total Conductive Heat is\n",
            "695520.0 W\n"
          ],
          "name": "stdout"
        }
      ]
    }
  ]
}